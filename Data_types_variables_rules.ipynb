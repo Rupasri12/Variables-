{
  "nbformat": 4,
  "nbformat_minor": 0,
  "metadata": {
    "colab": {
      "provenance": []
    },
    "kernelspec": {
      "name": "python3",
      "display_name": "Python 3"
    },
    "language_info": {
      "name": "python"
    }
  },
  "cells": [
    {
      "cell_type": "code",
      "execution_count": null,
      "metadata": {
        "colab": {
          "base_uri": "https://localhost:8080/"
        },
        "id": "hWUU4L3MC00h",
        "outputId": "6a2951fd-421b-4e31-b3ac-60d697318bb6"
      },
      "outputs": [
        {
          "output_type": "execute_result",
          "data": {
            "text/plain": [
              "45"
            ]
          },
          "metadata": {},
          "execution_count": 2
        }
      ],
      "source": [
        "# integer\n",
        "\n",
        "45"
      ]
    },
    {
      "cell_type": "code",
      "source": [
        "# float\n",
        "\n",
        "55.55"
      ],
      "metadata": {
        "colab": {
          "base_uri": "https://localhost:8080/"
        },
        "id": "_qKiki0dDjEE",
        "outputId": "18de47f0-d999-419b-b97c-950946c63d89"
      },
      "execution_count": null,
      "outputs": [
        {
          "output_type": "execute_result",
          "data": {
            "text/plain": [
              "55.55"
            ]
          },
          "metadata": {},
          "execution_count": 3
        }
      ]
    },
    {
      "cell_type": "code",
      "source": [
        "# string_version_1\n",
        "\"\"\"python\"\"\""
      ],
      "metadata": {
        "colab": {
          "base_uri": "https://localhost:8080/",
          "height": 35
        },
        "id": "rsvLYnPlDnYF",
        "outputId": "c8bf3dc2-1b62-4a5d-d2d5-78276e267947"
      },
      "execution_count": null,
      "outputs": [
        {
          "output_type": "execute_result",
          "data": {
            "text/plain": [
              "'python'"
            ],
            "application/vnd.google.colaboratory.intrinsic+json": {
              "type": "string"
            }
          },
          "metadata": {},
          "execution_count": 4
        }
      ]
    },
    {
      "cell_type": "code",
      "source": [
        "# string_version_2\n",
        "\n",
        "\"python1234#\""
      ],
      "metadata": {
        "colab": {
          "base_uri": "https://localhost:8080/",
          "height": 35
        },
        "id": "YcN1OxslEEfS",
        "outputId": "ecd6bf70-d9de-48ef-da9e-c1b895bf05da"
      },
      "execution_count": null,
      "outputs": [
        {
          "output_type": "execute_result",
          "data": {
            "text/plain": [
              "'python1234#'"
            ],
            "application/vnd.google.colaboratory.intrinsic+json": {
              "type": "string"
            }
          },
          "metadata": {},
          "execution_count": 5
        }
      ]
    },
    {
      "cell_type": "code",
      "source": [
        "# string_version_3\n",
        "\n",
        "'python'"
      ],
      "metadata": {
        "colab": {
          "base_uri": "https://localhost:8080/",
          "height": 35
        },
        "id": "14wXwHdpETtD",
        "outputId": "ebc259e5-73c8-4a12-92f0-fb3bae19c64f"
      },
      "execution_count": null,
      "outputs": [
        {
          "output_type": "execute_result",
          "data": {
            "text/plain": [
              "'python'"
            ],
            "application/vnd.google.colaboratory.intrinsic+json": {
              "type": "string"
            }
          },
          "metadata": {},
          "execution_count": 6
        }
      ]
    },
    {
      "cell_type": "code",
      "source": [
        "100 + 300"
      ],
      "metadata": {
        "colab": {
          "base_uri": "https://localhost:8080/"
        },
        "id": "EnnK8I6lEaWw",
        "outputId": "0b84e181-b91e-4a9c-ce17-d68bb54d3cba"
      },
      "execution_count": null,
      "outputs": [
        {
          "output_type": "execute_result",
          "data": {
            "text/plain": [
              "400"
            ]
          },
          "metadata": {},
          "execution_count": 7
        }
      ]
    },
    {
      "cell_type": "markdown",
      "source": [
        "**Varibales**"
      ],
      "metadata": {
        "id": "MijcHNrMF29k"
      }
    },
    {
      "cell_type": "code",
      "source": [
        "a = 98 # will save in the Memory\n",
        "\n",
        "print(a + 100)\n",
        "\n",
        "print(a + 200)"
      ],
      "metadata": {
        "colab": {
          "base_uri": "https://localhost:8080/"
        },
        "id": "8RyYK9YdEkeo",
        "outputId": "fea18c8e-e0b3-4357-d8d8-21ca1f31721c"
      },
      "execution_count": null,
      "outputs": [
        {
          "output_type": "stream",
          "name": "stdout",
          "text": [
            "198\n",
            "298\n"
          ]
        }
      ]
    },
    {
      "cell_type": "code",
      "source": [
        "a = 100\n",
        "\n",
        "print(a + 50)"
      ],
      "metadata": {
        "colab": {
          "base_uri": "https://localhost:8080/"
        },
        "id": "57QzgDcpGabJ",
        "outputId": "e5a3fa5a-50b8-4219-8935-084193a88eb1"
      },
      "execution_count": null,
      "outputs": [
        {
          "output_type": "stream",
          "name": "stdout",
          "text": [
            "150\n"
          ]
        }
      ]
    },
    {
      "cell_type": "code",
      "source": [
        "a = 200\n",
        "\n",
        "print(a)"
      ],
      "metadata": {
        "colab": {
          "base_uri": "https://localhost:8080/"
        },
        "id": "O9iOOWEHHwj_",
        "outputId": "e1434e9c-7343-4a11-8257-7230f5a775e2"
      },
      "execution_count": null,
      "outputs": [
        {
          "output_type": "stream",
          "name": "stdout",
          "text": [
            "200\n"
          ]
        }
      ]
    },
    {
      "cell_type": "code",
      "source": [
        "a = 55.55\n",
        "\n",
        "print(a + 10)"
      ],
      "metadata": {
        "colab": {
          "base_uri": "https://localhost:8080/"
        },
        "id": "YTkpqJGgIG5J",
        "outputId": "27602af7-81fd-4cd1-928a-1d45c5ef568e"
      },
      "execution_count": null,
      "outputs": [
        {
          "output_type": "stream",
          "name": "stdout",
          "text": [
            "65.55\n"
          ]
        }
      ]
    },
    {
      "cell_type": "code",
      "source": [
        "a = 'data' # save in the Memory\n",
        "\n",
        "print(a) # calling from the memory"
      ],
      "metadata": {
        "colab": {
          "base_uri": "https://localhost:8080/"
        },
        "id": "y0mgmQmdIYWf",
        "outputId": "2924e4fc-9f25-4b7f-f713-170f3a2b4507"
      },
      "execution_count": null,
      "outputs": [
        {
          "output_type": "stream",
          "name": "stdout",
          "text": [
            "data\n"
          ]
        }
      ]
    },
    {
      "cell_type": "code",
      "source": [
        "# Memory size -> address of the varibales\n",
        "\n",
        "a = 100\n",
        "b = 55.55\n",
        "c = '800python'\n",
        "\n",
        "print(id(a))\n",
        "print(id(b))\n",
        "print(id(c))"
      ],
      "metadata": {
        "colab": {
          "base_uri": "https://localhost:8080/"
        },
        "id": "_six9VkYIb20",
        "outputId": "36ad7d66-69ba-4115-d9f5-f28d89baf82c"
      },
      "execution_count": null,
      "outputs": [
        {
          "output_type": "stream",
          "name": "stdout",
          "text": [
            "137273151360336\n",
            "137271873107248\n",
            "137271871206960\n"
          ]
        }
      ]
    },
    {
      "cell_type": "markdown",
      "source": [
        "**Rules_to_create_a_varibales**\n",
        "\n",
        "- `Rule_no_1:Varibale should not start with a number if you want to start please use underscore `"
      ],
      "metadata": {
        "id": "5o9uHkbgMMH-"
      }
    },
    {
      "cell_type": "code",
      "source": [
        "9a = 500\n",
        "\n",
        "print(9a)"
      ],
      "metadata": {
        "id": "ngs6LQZzLRCS",
        "colab": {
          "base_uri": "https://localhost:8080/",
          "height": 128
        },
        "outputId": "04490934-71ff-4ae5-c3e0-31ba8895889d"
      },
      "execution_count": null,
      "outputs": [
        {
          "output_type": "error",
          "ename": "SyntaxError",
          "evalue": "invalid decimal literal (<ipython-input-18-e8c82f37c5b8>, line 1)",
          "traceback": [
            "\u001b[0;36m  File \u001b[0;32m\"<ipython-input-18-e8c82f37c5b8>\"\u001b[0;36m, line \u001b[0;32m1\u001b[0m\n\u001b[0;31m    9a = 500\u001b[0m\n\u001b[0m    ^\u001b[0m\n\u001b[0;31mSyntaxError\u001b[0m\u001b[0;31m:\u001b[0m invalid decimal literal\n"
          ]
        }
      ]
    },
    {
      "cell_type": "code",
      "source": [
        "_9a = 100\n",
        "print(_9a)"
      ],
      "metadata": {
        "colab": {
          "base_uri": "https://localhost:8080/"
        },
        "id": "H8wmbDN0N9M-",
        "outputId": "7d48a3e2-7c0f-4f1e-e57f-39f0adc66c25"
      },
      "execution_count": null,
      "outputs": [
        {
          "output_type": "stream",
          "name": "stdout",
          "text": [
            "100\n"
          ]
        }
      ]
    },
    {
      "cell_type": "markdown",
      "source": [
        "- `rule_no_2 -> varibale should be single word or a single character but not multiple words -> if you want please use underscore `"
      ],
      "metadata": {
        "id": "bfz7CK9hOZ5j"
      }
    },
    {
      "cell_type": "code",
      "source": [
        "sai kumar = 100\n",
        "print(sai kumar)"
      ],
      "metadata": {
        "colab": {
          "base_uri": "https://localhost:8080/",
          "height": 128
        },
        "id": "4zPwU2vwOXpu",
        "outputId": "d57b11ff-1a03-4598-f4ed-54d2e6cc6e63"
      },
      "execution_count": null,
      "outputs": [
        {
          "output_type": "error",
          "ename": "SyntaxError",
          "evalue": "invalid syntax (<ipython-input-20-dc560918432a>, line 1)",
          "traceback": [
            "\u001b[0;36m  File \u001b[0;32m\"<ipython-input-20-dc560918432a>\"\u001b[0;36m, line \u001b[0;32m1\u001b[0m\n\u001b[0;31m    sai kumar = 100\u001b[0m\n\u001b[0m        ^\u001b[0m\n\u001b[0;31mSyntaxError\u001b[0m\u001b[0;31m:\u001b[0m invalid syntax\n"
          ]
        }
      ]
    },
    {
      "cell_type": "code",
      "source": [
        "sai_kumar = 100\n",
        "print(sai_kumar)"
      ],
      "metadata": {
        "colab": {
          "base_uri": "https://localhost:8080/"
        },
        "id": "Q9UQO2fyO8mt",
        "outputId": "a81a0ed6-ee39-4778-f36f-4f37c925120e"
      },
      "execution_count": null,
      "outputs": [
        {
          "output_type": "stream",
          "name": "stdout",
          "text": [
            "100\n"
          ]
        }
      ]
    },
    {
      "cell_type": "markdown",
      "source": [
        "- `Rule no:3 -> Python varibales are completely case sensitive ..`\n",
        "\n",
        "`case sensitive -> capital letters and small letters `"
      ],
      "metadata": {
        "id": "LYG7HQRAPVMg"
      }
    },
    {
      "cell_type": "code",
      "source": [
        "city = 'hyd'\n",
        "\n",
        "print(CITY)"
      ],
      "metadata": {
        "colab": {
          "base_uri": "https://localhost:8080/",
          "height": 198
        },
        "id": "IRzKEiB9PRqm",
        "outputId": "94620f14-110d-4348-ec4a-aa7145bcd63c"
      },
      "execution_count": null,
      "outputs": [
        {
          "output_type": "error",
          "ename": "NameError",
          "evalue": "name 'CITY' is not defined",
          "traceback": [
            "\u001b[0;31m---------------------------------------------------------------------------\u001b[0m",
            "\u001b[0;31mNameError\u001b[0m                                 Traceback (most recent call last)",
            "\u001b[0;32m<ipython-input-22-5c9e1d3e91cf>\u001b[0m in \u001b[0;36m<cell line: 3>\u001b[0;34m()\u001b[0m\n\u001b[1;32m      1\u001b[0m \u001b[0mcity\u001b[0m \u001b[0;34m=\u001b[0m \u001b[0;34m'hyd'\u001b[0m\u001b[0;34m\u001b[0m\u001b[0;34m\u001b[0m\u001b[0m\n\u001b[1;32m      2\u001b[0m \u001b[0;34m\u001b[0m\u001b[0m\n\u001b[0;32m----> 3\u001b[0;31m \u001b[0mprint\u001b[0m\u001b[0;34m(\u001b[0m\u001b[0mCITY\u001b[0m\u001b[0;34m)\u001b[0m\u001b[0;34m\u001b[0m\u001b[0;34m\u001b[0m\u001b[0m\n\u001b[0m",
            "\u001b[0;31mNameError\u001b[0m: name 'CITY' is not defined"
          ]
        }
      ]
    },
    {
      "cell_type": "markdown",
      "source": [
        "- `Rule_no_4 : Please done use below Punctuations as a varibale\n",
        "\n",
        "!\"#$%&'()*+,-./:;<=>?@[\\]^_`{|}~  `"
      ],
      "metadata": {
        "id": "XI_EzlSgQQkh"
      }
    },
    {
      "cell_type": "code",
      "source": [
        "$ = 500\n",
        "print($)"
      ],
      "metadata": {
        "colab": {
          "base_uri": "https://localhost:8080/",
          "height": 128
        },
        "id": "2sECuEv8QH9m",
        "outputId": "ab9af0a9-048e-4929-86d1-66b7277aa758"
      },
      "execution_count": null,
      "outputs": [
        {
          "output_type": "error",
          "ename": "SyntaxError",
          "evalue": "invalid syntax (<ipython-input-24-f316ea5eb42f>, line 1)",
          "traceback": [
            "\u001b[0;36m  File \u001b[0;32m\"<ipython-input-24-f316ea5eb42f>\"\u001b[0;36m, line \u001b[0;32m1\u001b[0m\n\u001b[0;31m    $ = 500\u001b[0m\n\u001b[0m    ^\u001b[0m\n\u001b[0;31mSyntaxError\u001b[0m\u001b[0;31m:\u001b[0m invalid syntax\n"
          ]
        }
      ]
    },
    {
      "cell_type": "code",
      "source": [
        "a = 10\n",
        "b = a\n",
        "\n",
        "print(id(a))\n",
        "print(id(b))"
      ],
      "metadata": {
        "id": "odwgwISHQlQ8",
        "colab": {
          "base_uri": "https://localhost:8080/"
        },
        "outputId": "6816b720-2caa-4c11-f1dd-03b19ffd0990"
      },
      "execution_count": null,
      "outputs": [
        {
          "output_type": "stream",
          "name": "stdout",
          "text": [
            "132713956409872\n",
            "132713956409872\n"
          ]
        }
      ]
    },
    {
      "cell_type": "code",
      "source": [
        "a = 10\n",
        "b = a\n",
        "\n",
        "\n",
        "print(a)\n",
        "print(b)\n",
        "\n",
        "\n",
        "print(id(a))\n",
        "print(id(b))"
      ],
      "metadata": {
        "colab": {
          "base_uri": "https://localhost:8080/"
        },
        "id": "UyBPcEhmKGeP",
        "outputId": "17dee6ce-d191-406e-dc9b-b7954ea4f663"
      },
      "execution_count": null,
      "outputs": [
        {
          "output_type": "stream",
          "name": "stdout",
          "text": [
            "10\n",
            "10\n",
            "132713956409872\n",
            "132713956409872\n"
          ]
        }
      ]
    },
    {
      "cell_type": "code",
      "source": [],
      "metadata": {
        "id": "lO7H5b_vKrHA"
      },
      "execution_count": null,
      "outputs": []
    }
  ]
}